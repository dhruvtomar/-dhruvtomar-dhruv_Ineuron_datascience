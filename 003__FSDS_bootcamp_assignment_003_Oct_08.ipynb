{
  "nbformat": 4,
  "nbformat_minor": 0,
  "metadata": {
    "colab": {
      "provenance": [],
      "collapsed_sections": [],
      "include_colab_link": true
    },
    "kernelspec": {
      "name": "python3",
      "display_name": "Python 3"
    },
    "language_info": {
      "name": "python"
    }
  },
  "cells": [
    {
      "cell_type": "markdown",
      "metadata": {
        "id": "view-in-github",
        "colab_type": "text"
      },
      "source": [
        "<a href=\"https://colab.research.google.com/github/dhruvtomar/-dhruvtomar-dhruv_Ineuron_datascience/blob/main/003__FSDS_bootcamp_assignment_003_Oct_08.ipynb\" target=\"_parent\"><img src=\"https://colab.research.google.com/assets/colab-badge.svg\" alt=\"Open In Colab\"/></a>"
      ]
    },
    {
      "cell_type": "markdown",
      "source": [
        "# ASSIGNMENTS - Compulsory\n",
        "## Send it before 0000 hrs IST or 12 AM Wednesday\n",
        "\n",
        "## NOTE: Evaluation will be done before next class.\n",
        "\n",
        "## HOW TO SUBMIT: -\n",
        "Download this notebook, Solve it and upload in the google form given in the mail."
      ],
      "metadata": {
        "id": "cyOfbWCdOjEr"
      }
    },
    {
      "cell_type": "markdown",
      "source": [
        "## Python String Manipulation\n",
        "\n",
        "1. Count the number of times `iNeuron` appears in the string.\n",
        "```python\n",
        "text = \"Welcome to iNeuron, You are a part of FSDS Bootcamp 2 in iNeuron. I hope you are enjoying the course by iNeuron\"\n",
        "```\n",
        "2. Check if position `5` to `11` ends with the phrase `iNeuron.` in the string \n",
        "```python\n",
        "txt = \"Hello, welcome to FSDS 2.0 at iNeuron.\"\n",
        "```\n",
        "3. Write a program that takes your full name as input and displays the abbreviations of the first and middle names except the last name which is displayed as it is. For example, if your name is Sunny Bhaveen Chandra, then the output should be S.B.Chandra.\n",
        "\n",
        "4. Join all items in a list into a string, using a hash(`#`) character as separator:\n",
        "```python\n",
        "LIST = [\"My\", \"name\", \"is\", \"Rishav\", \"Dash\"]\n",
        "```\n",
        "5. Write example for the following string manipulation function,\n",
        "\n",
        "  ```\n",
        "  - isdecimal()\n",
        "  - islower()\n",
        "  - isupper()\n",
        "  - isalpha()\n",
        "  - isnumeric()\n",
        "\n",
        "  ```\n",
        "6. Indian PAN card format follows the following formats - \n",
        "    - `AYEPC7894X`\n",
        "    - `ABCDE9999Y`\n",
        "  Take user input for PAN_CARD and validate as per the above example.\n"
      ],
      "metadata": {
        "id": "GT4IytkJMNa-"
      }
    },
    {
      "cell_type": "code",
      "source": [
        "#1\n",
        "text = \"Welcome to iNeuron, You are a part of FSDS Bootcamp 2 in iNeuron. I hope you are enjoying the course by iNeuron\"\n",
        "print(\"number of iNeuron is :\", text.count('iNeuron'))\n"
      ],
      "metadata": {
        "colab": {
          "base_uri": "https://localhost:8080/"
        },
        "id": "oj8EWozo25An",
        "outputId": "70107546-6092-4aa8-c723-cf384bd980de"
      },
      "execution_count": null,
      "outputs": [
        {
          "output_type": "stream",
          "name": "stdout",
          "text": [
            "number of iNeuron is : 3\n"
          ]
        }
      ]
    },
    {
      "cell_type": "code",
      "source": [
        "#2\n",
        "txt = \"Hello, welcome to FSDS 2.0 at iNeuron.\"\n",
        "print(f\"The position of the iNeuron: {txt.find('iNeuron')}\")\n",
        "\n",
        "if 11>= txt.find('iNeuron')>= 5:\n",
        "   print(\"so iNruron coome in 5th to 11th position\")\n",
        "else:\n",
        "     print(\"so iNruron  doesn't coome in 5th to 11th position\")\n"
      ],
      "metadata": {
        "id": "KwVni9gipNi-",
        "colab": {
          "base_uri": "https://localhost:8080/"
        },
        "outputId": "dd819e35-684f-4d6f-bf8a-93ab39b717c3"
      },
      "execution_count": null,
      "outputs": [
        {
          "output_type": "stream",
          "name": "stdout",
          "text": [
            "The position of the iNeuron: 30\n",
            "so iNruron  doesnt coome in 5th to 11th position\n"
          ]
        }
      ]
    },
    {
      "cell_type": "code",
      "source": [
        "#3\n",
        "name = \"Dhruv Kumar Tomar\"\n",
        "print(f\"The final abbreviation of the name is: {name[0]}.{name [6]}.{name[11:]}\")"
      ],
      "metadata": {
        "id": "XXgnfbUs4tyz",
        "colab": {
          "base_uri": "https://localhost:8080/"
        },
        "outputId": "2fdbb342-487b-4d9e-948d-3b9467a75c63"
      },
      "execution_count": null,
      "outputs": [
        {
          "output_type": "stream",
          "name": "stdout",
          "text": [
            "The final abbreviation of the name is: D.K. Tomar\n"
          ]
        }
      ]
    },
    {
      "cell_type": "code",
      "source": [
        "#4\n",
        "LIST = [\"My\", \"name\", \"is\", \"Rishav\", \"Dash\"]\n",
        "\n",
        "for i in LIST:\n",
        " print(i, end=\"# \")"
      ],
      "metadata": {
        "colab": {
          "base_uri": "https://localhost:8080/"
        },
        "id": "8nw1XKBhHq2A",
        "outputId": "0f26a211-43e8-4df3-f3cc-c79730b00cbf"
      },
      "execution_count": null,
      "outputs": [
        {
          "output_type": "stream",
          "name": "stdout",
          "text": [
            "My# name# is# Rishav# Dash# "
          ]
        }
      ]
    },
    {
      "cell_type": "markdown",
      "source": [
        "isdecimal()\n",
        "- islower()\n",
        "- isupper()\n",
        "- isalpha()\n",
        "- isnumeric()"
      ],
      "metadata": {
        "id": "GOtwvnMwQpmx"
      }
    },
    {
      "cell_type": "code",
      "source": [
        "#5\n",
        "\n",
        "name = \"dhruv\"\n",
        "print(f\"\"\"\"\"isdecimal result: {name.isdecimal()}  # check for decimal like number 0 to 9\n",
        "      islower result is: {name.islower()}  # checks all alphavet is lower or not\n",
        "      isupper result is: {name.isupper()} # chech upper alphabet\n",
        "      isalpha result is: {name.isalpha()} # cheks only alphabet there or not \n",
        "      isnumeric result is: {name.isnumeric()} #cheks only numeric 0 to 9 \"\"\"\"\") "
      ],
      "metadata": {
        "colab": {
          "base_uri": "https://localhost:8080/"
        },
        "id": "DRGTmHu2Nwrb",
        "outputId": "9f97d9cb-d7d8-4d75-ebe8-f2b48c5af85b"
      },
      "execution_count": null,
      "outputs": [
        {
          "output_type": "stream",
          "name": "stdout",
          "text": [
            "\"\"isdecimal result: False  # check for decimal like number 0 to 9\n",
            "      islower result is: True  # checks all alphavet is lower or not\n",
            "      isupper result is: False # chech upper alphabet\n",
            "      isalpha result is: True # cheks only alphabet there or not \n",
            "      isnumeric result is: False #cheks only numeric 0 to 9 \n"
          ]
        }
      ]
    },
    {
      "cell_type": "code",
      "source": [
        "6#\n",
        "Pan_card = \"ABCDE9999Y\"\n",
        "  \n",
        "if Pan_card[:4].upper() and Pan_card[5:8].isnumeric() and Pan_card[9].upper():\n",
        "  print(f\"The Pan_card id in right format:{Pan_card}\")\n",
        "\n",
        "else:\n",
        "  print(\"Ivalid format\")\n"
      ],
      "metadata": {
        "colab": {
          "base_uri": "https://localhost:8080/"
        },
        "id": "CDU4Uf1_Q5wb",
        "outputId": "e9e0e2f7-3038-4492-a60b-7af33075e2aa"
      },
      "execution_count": null,
      "outputs": [
        {
          "output_type": "stream",
          "name": "stdout",
          "text": [
            "The Pan_card id in right format:ABCDE9999Y\n"
          ]
        }
      ]
    },
    {
      "cell_type": "code",
      "source": [
        "Pan_card =\"ABCDE9999Y\"\n",
        "  \n",
        "if Pan_card[:4].isupper() and Pan_card[5:8].isnumeric() and Pan_card[9].isupper():\n",
        "  print(\"The Pan_card id in right forma\")\n",
        "\n",
        "else:\n",
        "  print(\"Ivalid format\")\n"
      ],
      "metadata": {
        "colab": {
          "base_uri": "https://localhost:8080/"
        },
        "id": "BnYiubcfgrEg",
        "outputId": "66fb9c7b-f6d0-4959-a572-9797aaddb7a7"
      },
      "execution_count": null,
      "outputs": [
        {
          "output_type": "stream",
          "name": "stdout",
          "text": [
            "The Pan_card id in right forma\n"
          ]
        }
      ]
    },
    {
      "cell_type": "code",
      "source": [
        "Pan_card =input(\"Enter Pan Card Number to validate:\")\n",
        "  \n",
        "if Pan_card[:4].isupper() and Pan_card[5:8].isnumeric() and Pan_card[9].isupper():\n",
        "  print(\"The Pan_card id in right forma\")\n",
        "\n",
        "else:\n",
        "  print(\"Ivalid format\")\n"
      ],
      "metadata": {
        "colab": {
          "base_uri": "https://localhost:8080/"
        },
        "id": "wVxlEAo3iN_s",
        "outputId": "a09e4b87-78a6-4301-dbff-04d4b3d137d9"
      },
      "execution_count": null,
      "outputs": [
        {
          "output_type": "stream",
          "name": "stdout",
          "text": [
            "Enter Pan Card Number to validate:KKKKK7777U\n",
            "The Pan_card id in right forma\n"
          ]
        }
      ]
    }
  ]
}