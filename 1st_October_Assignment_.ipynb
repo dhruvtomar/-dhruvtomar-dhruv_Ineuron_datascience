{
  "nbformat": 4,
  "nbformat_minor": 0,
  "metadata": {
    "colab": {
      "provenance": [],
      "authorship_tag": "ABX9TyO3+JskC8xFfvqyvv8TLv3R",
      "include_colab_link": true
    },
    "kernelspec": {
      "name": "python3",
      "display_name": "Python 3"
    },
    "language_info": {
      "name": "python"
    }
  },
  "cells": [
    {
      "cell_type": "markdown",
      "metadata": {
        "id": "view-in-github",
        "colab_type": "text"
      },
      "source": [
        "<a href=\"https://colab.research.google.com/github/dhruvtomar/-dhruvtomar-dhruv_Ineuron_datascience/blob/main/1st_October_Assignment_.ipynb\" target=\"_parent\"><img src=\"https://colab.research.google.com/assets/colab-badge.svg\" alt=\"Open In Colab\"/></a>"
      ]
    },
    {
      "cell_type": "markdown",
      "source": [
        "1. What is indentation error? Why indentation is important? Give one simple example?\n",
        "Indetation error means statement are not assigned properly so it will give error\n",
        "without proper indentation the code get not complied in order so it will give erro\n",
        "\n",
        "\n"
      ],
      "metadata": {
        "id": "Skc0ii0o68uD"
      }
    },
    {
      "cell_type": "code",
      "source": [
        "#Indentation Erro Example\n",
        "x = int(input(\"Enter\"))\n",
        "if x==0:\n",
        "  print(\"Zero\")\n",
        "else:\n",
        "  print(\"More\")"
      ],
      "metadata": {
        "colab": {
          "base_uri": "https://localhost:8080/"
        },
        "id": "ceS_HZh0y1dX",
        "outputId": "d164d879-402c-47a5-c83f-e2fdafb5e774"
      },
      "execution_count": null,
      "outputs": [
        {
          "output_type": "stream",
          "name": "stdout",
          "text": [
            "Enter1\n",
            "More\n"
          ]
        }
      ]
    },
    {
      "cell_type": "code",
      "source": [
        "#Indentation Erro Example\n",
        "x = int(input(\"Enter\"))\n",
        "if x==0:  #indentation error \n",
        "print(\"Zero\")\n",
        "else:\n",
        "  print(\"More\")"
      ],
      "metadata": {
        "colab": {
          "base_uri": "https://localhost:8080/",
          "height": 130
        },
        "id": "IaYhheWAzTuF",
        "outputId": "0921d5c8-a6a1-4a0b-b299-7cfe022824bd"
      },
      "execution_count": null,
      "outputs": [
        {
          "output_type": "error",
          "ename": "IndentationError",
          "evalue": "ignored",
          "traceback": [
            "\u001b[0;36m  File \u001b[0;32m\"<ipython-input-5-b99f0ed0dbf0>\"\u001b[0;36m, line \u001b[0;32m4\u001b[0m\n\u001b[0;31m    print(\"Zero\")\u001b[0m\n\u001b[0m        ^\u001b[0m\n\u001b[0;31mIndentationError\u001b[0m\u001b[0;31m:\u001b[0m expected an indented block\n"
          ]
        }
      ]
    },
    {
      "cell_type": "markdown",
      "source": [
        "##2 Correct the following code and write the comment where you made the correction?"
      ],
      "metadata": {
        "id": "1-9NZJI-zniL"
      }
    },
    {
      "cell_type": "code",
      "source": [
        "class_started = bool(input(\"Hey friend, is class started?: [0-False/1-True]\"))\n",
        "\n",
        "if class_started:\n",
        "   print(\"Since class started...\")\n",
        "   print(\"Lets concentrate\")\n",
        "else:\n",
        "   print(\"Since class is not started...\")\n",
        "   print(\"let's revise\")      #here i am getting the same result as bool always count true so i converted this to int and it works below\n",
        "  \n"
      ],
      "metadata": {
        "id": "jHqpNs7X7I0S"
      },
      "execution_count": null,
      "outputs": []
    },
    {
      "cell_type": "code",
      "source": [
        "class_started = int(input(\"Hey friend, is class started?: [0-False/1-True]\"))\n",
        "\n",
        "if class_started == True:\n",
        "   print(\"Since class started...\")\n",
        "   print(\"Lets concentrate\")\n",
        "elif class_started == False:\n",
        "   print(\"Since class is not started...\")\n",
        "   print(\"let's revise\")  \n",
        "\n",
        "else:\n",
        "  print(\"not valid bool\")  "
      ],
      "metadata": {
        "colab": {
          "base_uri": "https://localhost:8080/"
        },
        "id": "jSqSzNwgD4TD",
        "outputId": "e6020871-5e66-4400-9a8d-7f729f2e109b"
      },
      "execution_count": null,
      "outputs": [
        {
          "output_type": "stream",
          "name": "stdout",
          "text": [
            "Hey friend, is class started?: [0-False/1-True]1\n",
            "Since class started...\n",
            "Lets concentrate\n"
          ]
        }
      ]
    },
    {
      "cell_type": "markdown",
      "source": [
        "## 3. Use if else condition to verify that dataype of input() method in python is always string."
      ],
      "metadata": {
        "id": "0co1_qymRef8"
      }
    },
    {
      "cell_type": "code",
      "source": [
        "num  = input(\"Enter the number\")\n",
        "\n",
        "if num>5:\n",
        "  print(\"Goood number\")\n",
        "else:\n",
        "  print(\"Not satisfy\")"
      ],
      "metadata": {
        "colab": {
          "base_uri": "https://localhost:8080/",
          "height": 252
        },
        "id": "VjGe4z6RRc-G",
        "outputId": "49405e28-5a3b-4adf-8824-a8e2d058c5b1"
      },
      "execution_count": null,
      "outputs": [
        {
          "name": "stdout",
          "output_type": "stream",
          "text": [
            "Enter the number55\n"
          ]
        },
        {
          "output_type": "error",
          "ename": "TypeError",
          "evalue": "ignored",
          "traceback": [
            "\u001b[0;31m---------------------------------------------------------------------------\u001b[0m",
            "\u001b[0;31mTypeError\u001b[0m                                 Traceback (most recent call last)",
            "\u001b[0;32m<ipython-input-7-ab7c6548cdf5>\u001b[0m in \u001b[0;36m<module>\u001b[0;34m\u001b[0m\n\u001b[1;32m      1\u001b[0m \u001b[0mnum\u001b[0m  \u001b[0;34m=\u001b[0m \u001b[0minput\u001b[0m\u001b[0;34m(\u001b[0m\u001b[0;34m\"Enter the number\"\u001b[0m\u001b[0;34m)\u001b[0m\u001b[0;34m\u001b[0m\u001b[0;34m\u001b[0m\u001b[0m\n\u001b[1;32m      2\u001b[0m \u001b[0;34m\u001b[0m\u001b[0m\n\u001b[0;32m----> 3\u001b[0;31m \u001b[0;32mif\u001b[0m \u001b[0mnum\u001b[0m\u001b[0;34m>\u001b[0m\u001b[0;36m5\u001b[0m\u001b[0;34m:\u001b[0m\u001b[0;34m\u001b[0m\u001b[0;34m\u001b[0m\u001b[0m\n\u001b[0m\u001b[1;32m      4\u001b[0m   \u001b[0mprint\u001b[0m\u001b[0;34m(\u001b[0m\u001b[0;34m\"Goood number\"\u001b[0m\u001b[0;34m)\u001b[0m\u001b[0;34m\u001b[0m\u001b[0;34m\u001b[0m\u001b[0m\n\u001b[1;32m      5\u001b[0m \u001b[0;32melse\u001b[0m\u001b[0;34m:\u001b[0m\u001b[0;34m\u001b[0m\u001b[0;34m\u001b[0m\u001b[0m\n",
            "\u001b[0;31mTypeError\u001b[0m: '>' not supported between instances of 'str' and 'int'"
          ]
        }
      ]
    },
    {
      "cell_type": "markdown",
      "source": [
        "###***as by avove errro its proof htat number that i entered that was conted as a string but i compared to it with int thats why showing error***"
      ],
      "metadata": {
        "id": "AGjY2l9gTj7K"
      }
    },
    {
      "cell_type": "code",
      "source": [
        "num  = int(input(\"Enter the number\"))\n",
        "\n",
        "if num>90:\n",
        "  print(\"Goood number\")\n",
        "else:\n",
        "  print(\"Not satisfy\")"
      ],
      "metadata": {
        "colab": {
          "base_uri": "https://localhost:8080/"
        },
        "id": "Ggw2D7gpTwmw",
        "outputId": "b91fb817-e88a-40bc-e33a-ba26060a14e7"
      },
      "execution_count": null,
      "outputs": [
        {
          "output_type": "stream",
          "name": "stdout",
          "text": [
            "Enter the number99\n",
            "Goood number\n"
          ]
        }
      ]
    },
    {
      "cell_type": "markdown",
      "source": [
        "##4. Take 3 variables and assign integer values to them. Find the largest variable, by only using the if and else conditions."
      ],
      "metadata": {
        "id": "iFnu2lW0Ub5o"
      }
    },
    {
      "cell_type": "code",
      "source": [
        "a = int(input(\"Enter the first number\"))\n",
        "b = int(input(\"Enter the second number\"))\n",
        "c = int(input(\"Enter the third number\"))\n",
        "\n",
        "if a> b and a> c :\n",
        "  greater = a\n",
        "elif b > a  and b>c:\n",
        "  greater = b\n",
        "else:\n",
        "    greater = c\n",
        "\n",
        "print(\"the  greater number is:\", greater)\n",
        "\n"
      ],
      "metadata": {
        "colab": {
          "base_uri": "https://localhost:8080/"
        },
        "id": "cue0k6N9Uaqo",
        "outputId": "b0f906c0-1509-4fa6-9939-a5089b2bfa86"
      },
      "execution_count": 57,
      "outputs": [
        {
          "output_type": "stream",
          "name": "stdout",
          "text": [
            "Enter the first number3\n",
            "Enter the second number4\n",
            "Enter the third number6\n",
            "the  greater number is: 6\n"
          ]
        }
      ]
    },
    {
      "cell_type": "markdown",
      "source": [
        "##5. What would be the solution?\n",
        "\n",
        "True\n",
        "\n",
        "False\n",
        "\n",
        "a = 6\n",
        "b = 10\n",
        "Answer will be False \n",
        "because\n",
        "not a == 10 or not b == 10  = True but infront there is not that makes it False"
      ],
      "metadata": {
        "id": "pj6z1legR2pj"
      }
    },
    {
      "cell_type": "code",
      "source": [
        "a = 6\n",
        "b = 10\n",
        "print( not ( not a == 10 or not b == 10) )\n"
      ],
      "metadata": {
        "colab": {
          "base_uri": "https://localhost:8080/"
        },
        "id": "bqTsWUv0SIpe",
        "outputId": "c0e8f3d0-9326-4525-c27c-7dc524c81cd5"
      },
      "execution_count": 59,
      "outputs": [
        {
          "output_type": "stream",
          "name": "stdout",
          "text": [
            "False\n"
          ]
        }
      ]
    },
    {
      "cell_type": "markdown",
      "source": [
        "## 6. Find the answer as well as find out the reason behind the result? -\n",
        "\n",
        "* case 1:\n"
      ],
      "metadata": {
        "id": "UqpDIcL1Szto"
      }
    },
    {
      "cell_type": "code",
      "source": [
        "A = 5.0 #its a float\n",
        "B = int(10/2) #it will give int so the value will be 5 so the location will be change that is why its False\n",
        "\n",
        "print(A is B)"
      ],
      "metadata": {
        "id": "Og1bMLf5S8AL"
      },
      "execution_count": null,
      "outputs": []
    },
    {
      "cell_type": "code",
      "source": [
        "id(A)"
      ],
      "metadata": {
        "colab": {
          "base_uri": "https://localhost:8080/"
        },
        "id": "THEXpCMrTbmS",
        "outputId": "3481de83-aa2a-465b-92c0-2f77300a84d0"
      },
      "execution_count": 61,
      "outputs": [
        {
          "output_type": "execute_result",
          "data": {
            "text/plain": [
              "139625380514288"
            ]
          },
          "metadata": {},
          "execution_count": 61
        }
      ]
    },
    {
      "cell_type": "code",
      "source": [
        "id(B)"
      ],
      "metadata": {
        "colab": {
          "base_uri": "https://localhost:8080/"
        },
        "id": "J-IFENgaTeWg",
        "outputId": "be6d62e4-eb22-416c-afbe-c5fe04f3b33d"
      },
      "execution_count": 62,
      "outputs": [
        {
          "output_type": "execute_result",
          "data": {
            "text/plain": [
              "11122720"
            ]
          },
          "metadata": {},
          "execution_count": 62
        }
      ]
    },
    {
      "cell_type": "markdown",
      "source": [
        "Hence False"
      ],
      "metadata": {
        "id": "lB7kuwfATibl"
      }
    },
    {
      "cell_type": "markdown",
      "source": [
        "* case 2:\n"
      ],
      "metadata": {
        "id": "zjZdKDaMTmA9"
      }
    },
    {
      "cell_type": "code",
      "source": [
        "A = 5.0\n",
        "B = 10/2 \n",
        "print(B)\n",
        "print(A is B)"
      ],
      "metadata": {
        "colab": {
          "base_uri": "https://localhost:8080/"
        },
        "id": "FmU3O_geTqd6",
        "outputId": "4fc3322d-e403-4202-86ce-7446c7e23b84"
      },
      "execution_count": 68,
      "outputs": [
        {
          "output_type": "stream",
          "name": "stdout",
          "text": [
            "5.0\n",
            "False\n"
          ]
        }
      ]
    },
    {
      "cell_type": "code",
      "source": [
        "id(A)"
      ],
      "metadata": {
        "colab": {
          "base_uri": "https://localhost:8080/"
        },
        "id": "crje8SGYT_sc",
        "outputId": "7cadb75b-122e-40cb-fab9-5f6bb02f1f49"
      },
      "execution_count": 65,
      "outputs": [
        {
          "output_type": "execute_result",
          "data": {
            "text/plain": [
              "139625380536624"
            ]
          },
          "metadata": {},
          "execution_count": 65
        }
      ]
    },
    {
      "cell_type": "code",
      "source": [
        "id(B)  #Hence false id is different"
      ],
      "metadata": {
        "colab": {
          "base_uri": "https://localhost:8080/"
        },
        "id": "AEUXzA35UCrQ",
        "outputId": "fe64b148-fe49-4ac2-f14b-d41884e6a65a"
      },
      "execution_count": 67,
      "outputs": [
        {
          "output_type": "execute_result",
          "data": {
            "text/plain": [
              "139625380537584"
            ]
          },
          "metadata": {},
          "execution_count": 67
        }
      ]
    },
    {
      "cell_type": "markdown",
      "source": [
        "*case 3"
      ],
      "metadata": {
        "id": "oHvnQZadUbAW"
      }
    },
    {
      "cell_type": "code",
      "source": [
        "A = 5.0\n",
        "B = float(10/2)\n",
        "print(B)\n",
        "print(A is B)"
      ],
      "metadata": {
        "colab": {
          "base_uri": "https://localhost:8080/"
        },
        "id": "n1hRVFPhUZS_",
        "outputId": "538dad73-069a-47f1-e007-bca040f0558a"
      },
      "execution_count": 73,
      "outputs": [
        {
          "output_type": "stream",
          "name": "stdout",
          "text": [
            "5.0\n",
            "False\n"
          ]
        }
      ]
    },
    {
      "cell_type": "code",
      "source": [
        "id (A)"
      ],
      "metadata": {
        "colab": {
          "base_uri": "https://localhost:8080/"
        },
        "id": "3tjHLL6_Upo9",
        "outputId": "4b3e11b0-3a31-4603-d13d-19e682712241"
      },
      "execution_count": 71,
      "outputs": [
        {
          "output_type": "execute_result",
          "data": {
            "text/plain": [
              "139625380538288"
            ]
          },
          "metadata": {},
          "execution_count": 71
        }
      ]
    },
    {
      "cell_type": "code",
      "source": [
        "id(B) #again false the reaso is same that  A and B both are not denoting for the same that is why the location is differnet"
      ],
      "metadata": {
        "colab": {
          "base_uri": "https://localhost:8080/"
        },
        "id": "MqX4nLbRUr6q",
        "outputId": "e60bd300-1979-4d76-a7ce-5f184681cd8f"
      },
      "execution_count": 72,
      "outputs": [
        {
          "output_type": "execute_result",
          "data": {
            "text/plain": [
              "139625380835472"
            ]
          },
          "metadata": {},
          "execution_count": 72
        }
      ]
    },
    {
      "cell_type": "markdown",
      "source": [
        "## Try to understand the following examples and answer the question based on it -\n",
        "Arithmatic Operators\n",
        "\n",
        "Operation\tMeaning\n",
        "+\taddition\n",
        "-\tsubtraction\n",
        "*\tmultiplication\n",
        "/\ttrue division\n",
        "//\tinteger division\n",
        "%\tthe modulo operator\n",
        "Here +, -, *, / are regular arithmatic operators. Lets look at the // and % operators"
      ],
      "metadata": {
        "id": "deThrsOkVQGs"
      }
    },
    {
      "cell_type": "code",
      "source": [
        "var_a = 5\n",
        "var_b = 25\n",
        "integer_division = var_b // var_a\n",
        "print(f\"integer division: {var_b}/{var_a}={integer_division}\")"
      ],
      "metadata": {
        "colab": {
          "base_uri": "https://localhost:8080/"
        },
        "id": "d4wXNksQVN83",
        "outputId": "e89b48d1-f431-45fa-863b-cde90c9a9ba9"
      },
      "execution_count": 74,
      "outputs": [
        {
          "output_type": "stream",
          "name": "stdout",
          "text": [
            "integer division: 25/5=5\n"
          ]
        }
      ]
    },
    {
      "cell_type": "code",
      "source": [
        "var_a = 3\n",
        "var_b = 25\n",
        "integer_division = var_b // var_a\n",
        "print(f\"integer division: {var_b}/{var_a}={integer_division}\")"
      ],
      "metadata": {
        "colab": {
          "base_uri": "https://localhost:8080/"
        },
        "id": "tLbVCNXyV4Vl",
        "outputId": "4eed9e45-3178-4c8f-eb0f-1cebe9d936df"
      },
      "execution_count": 75,
      "outputs": [
        {
          "output_type": "stream",
          "name": "stdout",
          "text": [
            "integer division: 25/3=8\n"
          ]
        }
      ]
    },
    {
      "cell_type": "code",
      "source": [
        "var_a = 5\n",
        "var_b = 25\n",
        "remainder = var_b % var_a\n",
        "print(f\"remainder: {var_b}/{var_a} is {remainder}\")"
      ],
      "metadata": {
        "colab": {
          "base_uri": "https://localhost:8080/"
        },
        "id": "T3ggk-TQV5sY",
        "outputId": "d8d6a610-06ba-4764-ab7e-07aa7523d5cf"
      },
      "execution_count": 76,
      "outputs": [
        {
          "output_type": "stream",
          "name": "stdout",
          "text": [
            "remainder: 25/5 is 0\n"
          ]
        }
      ]
    },
    {
      "cell_type": "code",
      "source": [
        "var_a = 3\n",
        "var_b = 25\n",
        "remainder = var_b % var_a\n",
        "print(f\"remainder: {var_b}/{var_a} is {remainder}\")"
      ],
      "metadata": {
        "colab": {
          "base_uri": "https://localhost:8080/"
        },
        "id": "60q5h_g2V89V",
        "outputId": "9b09a3b4-306b-42ff-cc9b-9e9809589732"
      },
      "execution_count": 77,
      "outputs": [
        {
          "output_type": "stream",
          "name": "stdout",
          "text": [
            "remainder: 25/3 is 1\n"
          ]
        }
      ]
    },
    {
      "cell_type": "markdown",
      "source": [
        "## 7. Write a program that asks the user to enter a number. You should print out a message to the user, either “That number is divisible by either 3 or 5”, or “That number is not divisible by either 3 or 5”. Be sure to consider the data type of the input you are taking in from the user. Use a single if/else block to solve this problem."
      ],
      "metadata": {
        "id": "I2JUWHw5WAc8"
      }
    },
    {
      "cell_type": "code",
      "source": [
        "a = int(input(\"Enter the number\"))\n",
        "if a%3==0 or a%5==0:\n",
        "  print(f\"Number is divisbilbe: {a%3==0} {a%5==0}\")\n",
        "\n",
        "else:\n",
        "  print(\"Not divisible by 3 or 5\")"
      ],
      "metadata": {
        "colab": {
          "base_uri": "https://localhost:8080/"
        },
        "id": "PMYJQgzMWGWZ",
        "outputId": "b25d71bb-118e-406f-a556-a3ae67159de4"
      },
      "execution_count": 91,
      "outputs": [
        {
          "output_type": "stream",
          "name": "stdout",
          "text": [
            "Enter the number36\n",
            "Number is divisbilbe: True False\n"
          ]
        }
      ]
    },
    {
      "cell_type": "markdown",
      "source": [
        "##8. Take user input for length and width. Then calculate the area of rectangle. Also print as per length and width whether its a square of rectangle."
      ],
      "metadata": {
        "id": "rKXMgD0TXumu"
      }
    },
    {
      "cell_type": "code",
      "source": [
        "l = int(input(\"Enter the lenth of rectangle\"))\n",
        "w = int(input(\"Enter the width of rectangle\"))\n",
        "\n",
        "#are of rectangle  = l*b\n",
        "\n",
        "print(f\"Area of the rectable is: {l*w}\")\n",
        "if l==w:\n",
        "  print(\"this is a squre of rectangl\")\n",
        "\n",
        "else:\n",
        "  print(\"It is a rectangle\")"
      ],
      "metadata": {
        "colab": {
          "base_uri": "https://localhost:8080/"
        },
        "id": "VBE4SsnvXtH-",
        "outputId": "c01233e6-d524-4075-e81e-476ec81426b9"
      },
      "execution_count": 143,
      "outputs": [
        {
          "output_type": "stream",
          "name": "stdout",
          "text": [
            "Enter the lenth of rectangle5\n",
            "Enter the width of rectangle5\n",
            "Area of the rectable is: 25\n",
            "this is a squre of rectangl\n"
          ]
        }
      ]
    },
    {
      "cell_type": "markdown",
      "source": [
        "## 9.Take two variable radius_1 and radius_2 and calculate the area of circle_1 and circle_2. Also print which circle has large area. If area is equal then print area is equal."
      ],
      "metadata": {
        "id": "mnEERci2Y2xW"
      }
    },
    {
      "cell_type": "code",
      "source": [
        "radius_1 = 7\n",
        "radius_2 = 14\n",
        "# area of circle is 3.14*(r**2)\n",
        "\n",
        "print(f\"Are of 1st circle is: {3.14*(7**2)}\")\n",
        "print(f\"Are of 2nd circle is: {3.14*(14**2)}\")\n",
        "\n",
        "if radius_1>radius_2:\n",
        "  if readius_1==radius_2:\n",
        "    print(\"Area of both cirle is Equal\")\n",
        "\n",
        "  else:\n",
        "    print(\"Area of 1st circle is greater thatn the 2nd one\")\n",
        "    \n",
        "else:\n",
        "  print(\"Area of 2nd cirle is greater than 1st\")"
      ],
      "metadata": {
        "colab": {
          "base_uri": "https://localhost:8080/"
        },
        "id": "NbBPX7eYY1u8",
        "outputId": "e218b901-29a0-4671-f154-1f7918cf049f"
      },
      "execution_count": 98,
      "outputs": [
        {
          "output_type": "stream",
          "name": "stdout",
          "text": [
            "Are of 1st circle is: 153.86\n",
            "Are of 2nd circle is: 615.44\n",
            "Area of 2nd cirle is greater than 1st\n"
          ]
        }
      ]
    },
    {
      "cell_type": "code",
      "source": [
        "radius_1 = 14\n",
        "radius_2 = 7\n",
        "# area of circle is 3.14*(r**2)\n",
        "\n",
        "print(f\"Are of 1st circle is: {3.14*(7**2)}\")\n",
        "print(f\"Are of 2nd circle is: {3.14*(14**2)}\")\n",
        "\n",
        "if radius_1>radius_2:\n",
        "  if radius_1==radius_2:\n",
        "    print(\"Area of both cirle is Equal\")\n",
        "\n",
        "  else:\n",
        "    print(\"Area of 1st circle is greater thatn the 2nd one\")\n",
        "    \n",
        "else:\n",
        "  print(\"Area of 2nd cirle is greater than 1st\")"
      ],
      "metadata": {
        "colab": {
          "base_uri": "https://localhost:8080/"
        },
        "id": "M0yAdZxSatwy",
        "outputId": "7c55e011-f468-4f20-e96b-c84d3f97afb9"
      },
      "execution_count": 100,
      "outputs": [
        {
          "output_type": "stream",
          "name": "stdout",
          "text": [
            "Are of 1st circle is: 153.86\n",
            "Are of 2nd circle is: 615.44\n",
            "Area of 1st circle is greater thatn the 2nd one\n"
          ]
        }
      ]
    },
    {
      "cell_type": "code",
      "source": [
        "radius_1 = 14\n",
        "radius_2 = 14\n",
        "# area of circle is 3.14*(r**2)\n",
        "\n",
        "print(f\"Are of 1st circle is: {3.14*(14**2)}\")\n",
        "print(f\"Are of 2nd circle is: {3.14*(14**2)}\")\n",
        "\n",
        "if radius_1==radius_2:\n",
        "  print(\"Area is equal\")\n",
        " \n",
        "else:\n",
        "  print(\"can not define\")"
      ],
      "metadata": {
        "colab": {
          "base_uri": "https://localhost:8080/"
        },
        "id": "VpQlYTNHa6jC",
        "outputId": "9ba57454-f8f4-47be-c797-a552439972e5"
      },
      "execution_count": 120,
      "outputs": [
        {
          "output_type": "stream",
          "name": "stdout",
          "text": [
            "Are of 1st circle is: 615.44\n",
            "Are of 2nd circle is: 615.44\n",
            "Area is equal\n"
          ]
        }
      ]
    },
    {
      "cell_type": "markdown",
      "source": [
        "## 10. Check whether a year is leap year or not. Use nested if...else to solve this problem. A leap year is exactly divisible by 4 except for century years (years ending with 00). The century year is a leap year only if it is perfectly divisible by 400."
      ],
      "metadata": {
        "id": "RV0zNY_se107"
      }
    },
    {
      "cell_type": "code",
      "source": [],
      "metadata": {
        "id": "A1u1wVzIdWdB"
      },
      "execution_count": null,
      "outputs": []
    },
    {
      "cell_type": "code",
      "source": [
        "Leap_year = int(input(\"Enter the year to be checked: \"))\n",
        "if (Leap_year % 4) == 0:\n",
        "    if (Leap_year % 100) == 0:\n",
        "        if (Leap_year% 400) == 0:\n",
        "            print(\"The year is a Century leap year!\")\n",
        "        else:\n",
        "            print(\"The year is a not leap year!\")\n",
        "    else:\n",
        "        print(\"The year is a leap year!\")\n",
        "else:\n",
        "    print(\"The year is not a leap year!\")"
      ],
      "metadata": {
        "colab": {
          "base_uri": "https://localhost:8080/"
        },
        "id": "8KslKwwagm6r",
        "outputId": "db5a081a-77b8-4d7a-cfe1-48fd5a0078c9"
      },
      "execution_count": 142,
      "outputs": [
        {
          "output_type": "stream",
          "name": "stdout",
          "text": [
            "Enter the year to be checked: 600\n",
            "The year is a not leap year!\n"
          ]
        }
      ]
    }
  ]
}