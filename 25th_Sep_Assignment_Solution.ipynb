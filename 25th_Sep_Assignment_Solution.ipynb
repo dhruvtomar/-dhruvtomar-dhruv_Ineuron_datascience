{
  "nbformat": 4,
  "nbformat_minor": 0,
  "metadata": {
    "colab": {
      "provenance": []
    },
    "kernelspec": {
      "name": "python3",
      "display_name": "Python 3"
    },
    "language_info": {
      "name": "python"
    }
  },
  "cells": [
    {
      "cell_type": "markdown",
      "source": [
        "#Assignments\n",
        "## send the mail to query@ineuron.ai N\n",
        "cc sunny@ineuron.ai , riishav@ineuron.ai\n",
        "subject: [bootcamp 2.0 | assignment no 1]:\n",
        "\n",
        "**1.Find out all the types of error that we have encountered in our lectured in our lecture and why also include the examples.**\n",
        "2. Take input A and B and print their sum, mul div, power squre of the nos. \n",
        "3. how many reserved keywords are there in python and why we should not use them as a veriable name .\n",
        "4.Create email ids with the inputs.\n",
        "in the following format -\n",
        "lastname. firstname@gmail.com\n",
        "5.try to print the following lines -\n",
        "- Hi I'm Sunny \n",
        "- My adress is 22\\3 \n",
        "- I earn 20$ daily.\n",
        "\n",
        "6. Take user input(name, adress,date of birth etc.) to fill a form for your college and create their email IDs \n",
        "7. Convert the folllowing \n",
        "- \"22.4\" into 22 integer\n",
        "- \"22\" into complex no .\n",
        "\n"
      ],
      "metadata": {
        "id": "cm-l6Hm5kxGt"
      }
    },
    {
      "cell_type": "markdown",
      "source": [
        "##1.**Find out all the types of error that we have encountered in our lectured in our lecture and why also include the examples.**"
      ],
      "metadata": {
        "id": "T3jOZ_TMmlrM"
      }
    },
    {
      "cell_type": "code",
      "source": [
        "#1\n",
        "print(Dhruv)  #We need inverteed comma to print something"
      ],
      "metadata": {
        "colab": {
          "base_uri": "https://localhost:8080/",
          "height": 183
        },
        "id": "1V1Dc31_kz_J",
        "outputId": "5164491b-d074-4a85-a840-d5823aaaba09"
      },
      "execution_count": 1,
      "outputs": [
        {
          "output_type": "error",
          "ename": "NameError",
          "evalue": "ignored",
          "traceback": [
            "\u001b[0;31m---------------------------------------------------------------------------\u001b[0m",
            "\u001b[0;31mNameError\u001b[0m                                 Traceback (most recent call last)",
            "\u001b[0;32m<ipython-input-1-2ba556d3c180>\u001b[0m in \u001b[0;36m<module>\u001b[0;34m\u001b[0m\n\u001b[1;32m      1\u001b[0m \u001b[0;31m#1\u001b[0m\u001b[0;34m\u001b[0m\u001b[0;34m\u001b[0m\u001b[0;34m\u001b[0m\u001b[0m\n\u001b[0;32m----> 2\u001b[0;31m \u001b[0mprint\u001b[0m\u001b[0;34m(\u001b[0m\u001b[0mDhruv\u001b[0m\u001b[0;34m)\u001b[0m\u001b[0;34m\u001b[0m\u001b[0;34m\u001b[0m\u001b[0m\n\u001b[0m",
            "\u001b[0;31mNameError\u001b[0m: name 'Dhruv' is not defined"
          ]
        }
      ]
    },
    {
      "cell_type": "code",
      "source": [
        "#1.1 We can not go with P in print or it will show error\n",
        "Print(\"Dhruv\")"
      ],
      "metadata": {
        "colab": {
          "base_uri": "https://localhost:8080/",
          "height": 183
        },
        "id": "9ZmR4W2ppa4n",
        "outputId": "dacbc092-2a46-41c3-e9b8-e268cc2b42aa"
      },
      "execution_count": 9,
      "outputs": [
        {
          "output_type": "error",
          "ename": "NameError",
          "evalue": "ignored",
          "traceback": [
            "\u001b[0;31m---------------------------------------------------------------------------\u001b[0m",
            "\u001b[0;31mNameError\u001b[0m                                 Traceback (most recent call last)",
            "\u001b[0;32m<ipython-input-9-b7abb14ddf2e>\u001b[0m in \u001b[0;36m<module>\u001b[0;34m\u001b[0m\n\u001b[1;32m      1\u001b[0m \u001b[0;31m#1.1 We can not go with P in print or it will show error\u001b[0m\u001b[0;34m\u001b[0m\u001b[0;34m\u001b[0m\u001b[0;34m\u001b[0m\u001b[0m\n\u001b[0;32m----> 2\u001b[0;31m \u001b[0mPrint\u001b[0m\u001b[0;34m(\u001b[0m\u001b[0;34m\"Dhruv\"\u001b[0m\u001b[0;34m)\u001b[0m\u001b[0;34m\u001b[0m\u001b[0;34m\u001b[0m\u001b[0m\n\u001b[0m",
            "\u001b[0;31mNameError\u001b[0m: name 'Print' is not defined"
          ]
        }
      ]
    },
    {
      "cell_type": "code",
      "source": [
        "#1.3 We can not print anything without  parentheses \n",
        "print\"Dhruv\""
      ],
      "metadata": {
        "colab": {
          "base_uri": "https://localhost:8080/",
          "height": 131
        },
        "id": "poU9L7RCpqMM",
        "outputId": "ac713064-8899-4d1c-942f-2366819f479d"
      },
      "execution_count": 10,
      "outputs": [
        {
          "output_type": "error",
          "ename": "SyntaxError",
          "evalue": "ignored",
          "traceback": [
            "\u001b[0;36m  File \u001b[0;32m\"<ipython-input-10-3132a57159f6>\"\u001b[0;36m, line \u001b[0;32m2\u001b[0m\n\u001b[0;31m    print\"Dhruv\"\u001b[0m\n\u001b[0m               ^\u001b[0m\n\u001b[0;31mSyntaxError\u001b[0m\u001b[0;31m:\u001b[0m invalid syntax\n"
          ]
        }
      ]
    },
    {
      "cell_type": "code",
      "source": [
        "#1.4 We can not braek line in print\n",
        "print(\"Dhruv\n",
        "tomar\")"
      ],
      "metadata": {
        "colab": {
          "base_uri": "https://localhost:8080/",
          "height": 131
        },
        "id": "U90V1OBQqAe0",
        "outputId": "2e164de0-a079-400c-bdc3-00d69826d2ec"
      },
      "execution_count": 11,
      "outputs": [
        {
          "output_type": "error",
          "ename": "SyntaxError",
          "evalue": "ignored",
          "traceback": [
            "\u001b[0;36m  File \u001b[0;32m\"<ipython-input-11-3c806d74badb>\"\u001b[0;36m, line \u001b[0;32m2\u001b[0m\n\u001b[0;31m    print(\"Dhruv\u001b[0m\n\u001b[0m                ^\u001b[0m\n\u001b[0;31mSyntaxError\u001b[0m\u001b[0;31m:\u001b[0m EOL while scanning string literal\n"
          ]
        }
      ]
    },
    {
      "cell_type": "code",
      "source": [
        "print(\"Dhruv\")"
      ],
      "metadata": {
        "colab": {
          "base_uri": "https://localhost:8080/"
        },
        "id": "zKfvp1Q4nKBP",
        "outputId": "dd20d1d9-964d-41d1-cf94-8c0f1078a66e"
      },
      "execution_count": 2,
      "outputs": [
        {
          "output_type": "stream",
          "name": "stdout",
          "text": [
            "Dhruv\n"
          ]
        }
      ]
    },
    {
      "cell_type": "code",
      "source": [
        "#2\n",
        "#for string value we always need to assing comma not for integers\n",
        "\n",
        "a = Dhruv"
      ],
      "metadata": {
        "colab": {
          "base_uri": "https://localhost:8080/",
          "height": 201
        },
        "id": "80DyulbxnPy3",
        "outputId": "5b25de94-d596-4d1a-b6f9-53e73493b3e4"
      },
      "execution_count": 3,
      "outputs": [
        {
          "output_type": "error",
          "ename": "NameError",
          "evalue": "ignored",
          "traceback": [
            "\u001b[0;31m---------------------------------------------------------------------------\u001b[0m",
            "\u001b[0;31mNameError\u001b[0m                                 Traceback (most recent call last)",
            "\u001b[0;32m<ipython-input-3-feeb21d26bd5>\u001b[0m in \u001b[0;36m<module>\u001b[0;34m\u001b[0m\n\u001b[1;32m      2\u001b[0m \u001b[0;31m#for string value we always need to assing comma not for integers\u001b[0m\u001b[0;34m\u001b[0m\u001b[0;34m\u001b[0m\u001b[0;34m\u001b[0m\u001b[0m\n\u001b[1;32m      3\u001b[0m \u001b[0;34m\u001b[0m\u001b[0m\n\u001b[0;32m----> 4\u001b[0;31m \u001b[0ma\u001b[0m \u001b[0;34m=\u001b[0m \u001b[0mDhruv\u001b[0m\u001b[0;34m\u001b[0m\u001b[0;34m\u001b[0m\u001b[0m\n\u001b[0m",
            "\u001b[0;31mNameError\u001b[0m: name 'Dhruv' is not defined"
          ]
        }
      ]
    },
    {
      "cell_type": "code",
      "source": [
        "a = \"Dhruv\"\n",
        "b = 6 \n",
        "#print(a)\n",
        "#print(f\"({a}{b})\")    # if we keep a without curly bracket it will direclty print a and b \n",
        "\n",
        "print(f\"(ab)\") "
      ],
      "metadata": {
        "colab": {
          "base_uri": "https://localhost:8080/"
        },
        "id": "juKOd83qnhSI",
        "outputId": "2d920cee-0903-4217-ec89-50326bec9004"
      },
      "execution_count": 8,
      "outputs": [
        {
          "output_type": "stream",
          "name": "stdout",
          "text": [
            "(ab)\n"
          ]
        }
      ]
    },
    {
      "cell_type": "code",
      "source": [
        "#3 \n",
        "print(\"Hello my name is \"Dhruv\"\")"
      ],
      "metadata": {
        "colab": {
          "base_uri": "https://localhost:8080/",
          "height": 131
        },
        "id": "SlPDkNuhoSjj",
        "outputId": "5b2a28d4-030e-46b5-e763-74499081a541"
      },
      "execution_count": 12,
      "outputs": [
        {
          "output_type": "error",
          "ename": "SyntaxError",
          "evalue": "ignored",
          "traceback": [
            "\u001b[0;36m  File \u001b[0;32m\"<ipython-input-12-744c836b4833>\"\u001b[0;36m, line \u001b[0;32m2\u001b[0m\n\u001b[0;31m    print(\"Hello my name is \"Dhruv\"\")\u001b[0m\n\u001b[0m                                 ^\u001b[0m\n\u001b[0;31mSyntaxError\u001b[0m\u001b[0;31m:\u001b[0m invalid syntax\n"
          ]
        }
      ]
    },
    {
      "cell_type": "code",
      "source": [
        "#4 special characters not alllowed  symbols = {`,~,!,@,#,$,%,^,&,*,(,),_,-,+,=,{,[,},},|,\\,:,;,\",',<,,,>,.,?,/}\n",
        "A@ = \"Dhruv\"\n"
      ],
      "metadata": {
        "colab": {
          "base_uri": "https://localhost:8080/",
          "height": 131
        },
        "id": "7rWifEt8rFCj",
        "outputId": "9659a7f3-f807-4ac4-deea-3dd9822291a6"
      },
      "execution_count": 17,
      "outputs": [
        {
          "output_type": "error",
          "ename": "SyntaxError",
          "evalue": "ignored",
          "traceback": [
            "\u001b[0;36m  File \u001b[0;32m\"<ipython-input-17-5643918522a4>\"\u001b[0;36m, line \u001b[0;32m3\u001b[0m\n\u001b[0;31m    A@ = \"Dhruv\"\u001b[0m\n\u001b[0m       ^\u001b[0m\n\u001b[0;31mSyntaxError\u001b[0m\u001b[0;31m:\u001b[0m invalid syntax\n"
          ]
        }
      ]
    },
    {
      "cell_type": "code",
      "source": [
        "#print(\"Hello my name is \\\"Dhruv\\\"\")\n",
        "print('Hello my name is \"Dhruv\"')"
      ],
      "metadata": {
        "colab": {
          "base_uri": "https://localhost:8080/"
        },
        "id": "kYOQBQEpqboG",
        "outputId": "4a282048-e515-4d88-fc6f-13c4ca341d4c"
      },
      "execution_count": 16,
      "outputs": [
        {
          "output_type": "stream",
          "name": "stdout",
          "text": [
            "Hello my name is \"Dhruv\"\n"
          ]
        }
      ]
    },
    {
      "cell_type": "code",
      "source": [
        "a% = 8 "
      ],
      "metadata": {
        "colab": {
          "base_uri": "https://localhost:8080/",
          "height": 131
        },
        "id": "tziL93s4rVHJ",
        "outputId": "a1bfd5ee-9a64-4b08-9334-1127e23e152e"
      },
      "execution_count": 18,
      "outputs": [
        {
          "output_type": "error",
          "ename": "SyntaxError",
          "evalue": "ignored",
          "traceback": [
            "\u001b[0;36m  File \u001b[0;32m\"<ipython-input-18-144d9d869f1e>\"\u001b[0;36m, line \u001b[0;32m1\u001b[0m\n\u001b[0;31m    a% = 8\u001b[0m\n\u001b[0m       ^\u001b[0m\n\u001b[0;31mSyntaxError\u001b[0m\u001b[0;31m:\u001b[0m invalid syntax\n"
          ]
        }
      ]
    },
    {
      "cell_type": "code",
      "source": [
        "a_b= \"Dhruv\"\n",
        "\n",
        "#4.1 we can not also assign any operators\n",
        "a/b = \"Dhruv\""
      ],
      "metadata": {
        "colab": {
          "base_uri": "https://localhost:8080/",
          "height": 131
        },
        "id": "mU23pTXYrbPt",
        "outputId": "237de929-e20a-4ede-85d7-6382f75d4917"
      },
      "execution_count": 20,
      "outputs": [
        {
          "output_type": "error",
          "ename": "SyntaxError",
          "evalue": "ignored",
          "traceback": [
            "\u001b[0;36m  File \u001b[0;32m\"<ipython-input-20-aa05fe006288>\"\u001b[0;36m, line \u001b[0;32m4\u001b[0m\n\u001b[0;31m    a/b = \"Dhruv\"\u001b[0m\n\u001b[0m                 ^\u001b[0m\n\u001b[0;31mSyntaxError\u001b[0m\u001b[0;31m:\u001b[0m can't assign to operator\n"
          ]
        }
      ]
    },
    {
      "cell_type": "code",
      "source": [
        "10 ten = 10 #we can not sue nubmer before tha varialble"
      ],
      "metadata": {
        "colab": {
          "base_uri": "https://localhost:8080/",
          "height": 131
        },
        "id": "TJRkBvWVrq72",
        "outputId": "f68e19f0-07c3-4b65-ed0a-3dcd7862ce72"
      },
      "execution_count": 21,
      "outputs": [
        {
          "output_type": "error",
          "ename": "SyntaxError",
          "evalue": "ignored",
          "traceback": [
            "\u001b[0;36m  File \u001b[0;32m\"<ipython-input-21-6227bda59697>\"\u001b[0;36m, line \u001b[0;32m1\u001b[0m\n\u001b[0;31m    10 ten = 10\u001b[0m\n\u001b[0m         ^\u001b[0m\n\u001b[0;31mSyntaxError\u001b[0m\u001b[0;31m:\u001b[0m invalid syntax\n"
          ]
        }
      ]
    },
    {
      "cell_type": "code",
      "source": [
        "Ten = 10\n",
        "ten number = 10 "
      ],
      "metadata": {
        "colab": {
          "base_uri": "https://localhost:8080/",
          "height": 131
        },
        "id": "z-nnpvRJsNB_",
        "outputId": "4c9bb5ea-7c5e-46a3-a6ef-9a0c99ce90f4"
      },
      "execution_count": 22,
      "outputs": [
        {
          "output_type": "error",
          "ename": "SyntaxError",
          "evalue": "ignored",
          "traceback": [
            "\u001b[0;36m  File \u001b[0;32m\"<ipython-input-22-2957994c773c>\"\u001b[0;36m, line \u001b[0;32m2\u001b[0m\n\u001b[0;31m    ten number = 10\u001b[0m\n\u001b[0m             ^\u001b[0m\n\u001b[0;31mSyntaxError\u001b[0m\u001b[0;31m:\u001b[0m invalid syntax\n"
          ]
        }
      ]
    },
    {
      "cell_type": "code",
      "source": [
        "Ten = 10\n",
        "ten_number= 10"
      ],
      "metadata": {
        "id": "iNMue7zpskzP"
      },
      "execution_count": 23,
      "outputs": []
    },
    {
      "cell_type": "code",
      "source": [
        "#Strong typing\n",
        "\n",
        "\"Dhruv\" + 1"
      ],
      "metadata": {
        "colab": {
          "base_uri": "https://localhost:8080/",
          "height": 201
        },
        "id": "4mpE-K0rtJxl",
        "outputId": "d5e3196e-c019-4461-abc8-f768bf2cc179"
      },
      "execution_count": 25,
      "outputs": [
        {
          "output_type": "error",
          "ename": "TypeError",
          "evalue": "ignored",
          "traceback": [
            "\u001b[0;31m---------------------------------------------------------------------------\u001b[0m",
            "\u001b[0;31mTypeError\u001b[0m                                 Traceback (most recent call last)",
            "\u001b[0;32m<ipython-input-25-cb9e0f0f1391>\u001b[0m in \u001b[0;36m<module>\u001b[0;34m\u001b[0m\n\u001b[1;32m      1\u001b[0m \u001b[0;31m#Strong typing\u001b[0m\u001b[0;34m\u001b[0m\u001b[0;34m\u001b[0m\u001b[0;34m\u001b[0m\u001b[0m\n\u001b[1;32m      2\u001b[0m \u001b[0;34m\u001b[0m\u001b[0m\n\u001b[0;32m----> 3\u001b[0;31m \u001b[0;34m\"Dhruv\"\u001b[0m \u001b[0;34m+\u001b[0m \u001b[0;36m1\u001b[0m\u001b[0;34m\u001b[0m\u001b[0;34m\u001b[0m\u001b[0m\n\u001b[0m",
            "\u001b[0;31mTypeError\u001b[0m: can only concatenate str (not \"int\") to str"
          ]
        }
      ]
    },
    {
      "cell_type": "code",
      "source": [
        "22.01 + 1\n",
        "\n",
        "\"Dhruv\" + \"1\""
      ],
      "metadata": {
        "colab": {
          "base_uri": "https://localhost:8080/",
          "height": 35
        },
        "id": "NattEZgytadq",
        "outputId": "dd4434c3-dbe5-4a11-c524-a709d2e4a4b8"
      },
      "execution_count": 27,
      "outputs": [
        {
          "output_type": "execute_result",
          "data": {
            "text/plain": [
              "'Dhruv1'"
            ],
            "application/vnd.google.colaboratory.intrinsic+json": {
              "type": "string"
            }
          },
          "metadata": {},
          "execution_count": 27
        }
      ]
    },
    {
      "cell_type": "code",
      "source": [
        "\"22\" + 22"
      ],
      "metadata": {
        "colab": {
          "base_uri": "https://localhost:8080/",
          "height": 166
        },
        "id": "dB3gOP8Nt9vr",
        "outputId": "89ea491f-f766-4866-e226-3390b341e469"
      },
      "execution_count": 28,
      "outputs": [
        {
          "output_type": "error",
          "ename": "TypeError",
          "evalue": "ignored",
          "traceback": [
            "\u001b[0;31m---------------------------------------------------------------------------\u001b[0m",
            "\u001b[0;31mTypeError\u001b[0m                                 Traceback (most recent call last)",
            "\u001b[0;32m<ipython-input-28-2e2b19d89d15>\u001b[0m in \u001b[0;36m<module>\u001b[0;34m\u001b[0m\n\u001b[0;32m----> 1\u001b[0;31m \u001b[0;34m\"22\"\u001b[0m \u001b[0;34m+\u001b[0m \u001b[0;36m22\u001b[0m\u001b[0;34m\u001b[0m\u001b[0;34m\u001b[0m\u001b[0m\n\u001b[0m",
            "\u001b[0;31mTypeError\u001b[0m: can only concatenate str (not \"int\") to str"
          ]
        }
      ]
    },
    {
      "cell_type": "code",
      "source": [
        "\"22\" + \"22\""
      ],
      "metadata": {
        "colab": {
          "base_uri": "https://localhost:8080/",
          "height": 35
        },
        "id": "Fg23IzopuMTR",
        "outputId": "dc5fa2e9-9f9c-4506-8e7b-9b764b1a67b8"
      },
      "execution_count": 29,
      "outputs": [
        {
          "output_type": "execute_result",
          "data": {
            "text/plain": [
              "'2222'"
            ],
            "application/vnd.google.colaboratory.intrinsic+json": {
              "type": "string"
            }
          },
          "metadata": {},
          "execution_count": 29
        }
      ]
    },
    {
      "cell_type": "markdown",
      "source": [
        "##Reserved words in Python"
      ],
      "metadata": {
        "id": "3Qs6aO2Cwmzc"
      }
    },
    {
      "cell_type": "code",
      "source": [
        "print = \"Dhruv\"\n",
        "type(print)"
      ],
      "metadata": {
        "colab": {
          "base_uri": "https://localhost:8080/"
        },
        "id": "f-acbnx9wjsd",
        "outputId": "e38a575e-dde7-47ba-9d61-56825fa97b27"
      },
      "execution_count": 30,
      "outputs": [
        {
          "output_type": "execute_result",
          "data": {
            "text/plain": [
              "str"
            ]
          },
          "metadata": {},
          "execution_count": 30
        }
      ]
    },
    {
      "cell_type": "code",
      "source": [
        "print(\"Dhruv\")"
      ],
      "metadata": {
        "colab": {
          "base_uri": "https://localhost:8080/",
          "height": 166
        },
        "id": "fCqd3p1Xw2LL",
        "outputId": "602c8cfb-a57e-4609-b877-de99640ce6e3"
      },
      "execution_count": 31,
      "outputs": [
        {
          "output_type": "error",
          "ename": "TypeError",
          "evalue": "ignored",
          "traceback": [
            "\u001b[0;31m---------------------------------------------------------------------------\u001b[0m",
            "\u001b[0;31mTypeError\u001b[0m                                 Traceback (most recent call last)",
            "\u001b[0;32m<ipython-input-31-3278807831ac>\u001b[0m in \u001b[0;36m<module>\u001b[0;34m\u001b[0m\n\u001b[0;32m----> 1\u001b[0;31m \u001b[0mprint\u001b[0m\u001b[0;34m(\u001b[0m\u001b[0;34m\"Dhruv\"\u001b[0m\u001b[0;34m)\u001b[0m\u001b[0;34m\u001b[0m\u001b[0;34m\u001b[0m\u001b[0m\n\u001b[0m",
            "\u001b[0;31mTypeError\u001b[0m: 'str' object is not callable"
          ]
        }
      ]
    },
    {
      "cell_type": "code",
      "source": [
        "print = 13\n",
        "type(print)"
      ],
      "metadata": {
        "colab": {
          "base_uri": "https://localhost:8080/"
        },
        "id": "W3nPkIBrw_0V",
        "outputId": "9f59887b-80de-4a0e-df7f-3753fae70e60"
      },
      "execution_count": 32,
      "outputs": [
        {
          "output_type": "execute_result",
          "data": {
            "text/plain": [
              "int"
            ]
          },
          "metadata": {},
          "execution_count": 32
        }
      ]
    },
    {
      "cell_type": "code",
      "source": [
        "print(\"dhruv\")"
      ],
      "metadata": {
        "colab": {
          "base_uri": "https://localhost:8080/",
          "height": 166
        },
        "id": "EvbcUou8xD98",
        "outputId": "5589aaff-fa67-4558-87f2-0709a830f172"
      },
      "execution_count": 33,
      "outputs": [
        {
          "output_type": "error",
          "ename": "TypeError",
          "evalue": "ignored",
          "traceback": [
            "\u001b[0;31m---------------------------------------------------------------------------\u001b[0m",
            "\u001b[0;31mTypeError\u001b[0m                                 Traceback (most recent call last)",
            "\u001b[0;32m<ipython-input-33-61138f15e978>\u001b[0m in \u001b[0;36m<module>\u001b[0;34m\u001b[0m\n\u001b[0;32m----> 1\u001b[0;31m \u001b[0mprint\u001b[0m\u001b[0;34m(\u001b[0m\u001b[0;34m\"dhruv\"\u001b[0m\u001b[0;34m)\u001b[0m\u001b[0;34m\u001b[0m\u001b[0;34m\u001b[0m\u001b[0m\n\u001b[0m",
            "\u001b[0;31mTypeError\u001b[0m: 'int' object is not callable"
          ]
        }
      ]
    },
    {
      "cell_type": "code",
      "source": [
        "del print\n",
        "print(\"Dhruv\")"
      ],
      "metadata": {
        "colab": {
          "base_uri": "https://localhost:8080/"
        },
        "id": "mYvC3qFzxMNV",
        "outputId": "b1be9619-ac2a-433f-9763-6852f04259aa"
      },
      "execution_count": 34,
      "outputs": [
        {
          "output_type": "stream",
          "name": "stdout",
          "text": [
            "Dhruv\n"
          ]
        }
      ]
    },
    {
      "cell_type": "code",
      "source": [
        "# calcualte the age of the user\n",
        "\n",
        "name = input(\"Name: \") # always gives you string values\n",
        "place = input(\"place: \")\n",
        "year_of_birth = input(\"year_of_birth: \")\n",
        "\n",
        "age = 2022 - year_of_birth\n",
        "\n",
        "print(f\"\"\"\n",
        "My name is: {name}\n",
        "I live at: {place}\n",
        "{name} is of age: {age}\n",
        "\"\"\")"
      ],
      "metadata": {
        "colab": {
          "base_uri": "https://localhost:8080/",
          "height": 287
        },
        "id": "RXT3VngIxRvt",
        "outputId": "1a0089d9-b19d-439f-8c6e-0992097dc2f3"
      },
      "execution_count": 35,
      "outputs": [
        {
          "name": "stdout",
          "output_type": "stream",
          "text": [
            "Name: dhruv\n",
            "place: satna\n",
            "year_of_birth: 1996\n"
          ]
        },
        {
          "output_type": "error",
          "ename": "TypeError",
          "evalue": "ignored",
          "traceback": [
            "\u001b[0;31m---------------------------------------------------------------------------\u001b[0m",
            "\u001b[0;31mTypeError\u001b[0m                                 Traceback (most recent call last)",
            "\u001b[0;32m<ipython-input-35-2eec01983159>\u001b[0m in \u001b[0;36m<module>\u001b[0;34m\u001b[0m\n\u001b[1;32m      5\u001b[0m \u001b[0myear_of_birth\u001b[0m \u001b[0;34m=\u001b[0m \u001b[0minput\u001b[0m\u001b[0;34m(\u001b[0m\u001b[0;34m\"year_of_birth: \"\u001b[0m\u001b[0;34m)\u001b[0m\u001b[0;34m\u001b[0m\u001b[0;34m\u001b[0m\u001b[0m\n\u001b[1;32m      6\u001b[0m \u001b[0;34m\u001b[0m\u001b[0m\n\u001b[0;32m----> 7\u001b[0;31m \u001b[0mage\u001b[0m \u001b[0;34m=\u001b[0m \u001b[0;36m2022\u001b[0m \u001b[0;34m-\u001b[0m \u001b[0myear_of_birth\u001b[0m\u001b[0;34m\u001b[0m\u001b[0;34m\u001b[0m\u001b[0m\n\u001b[0m\u001b[1;32m      8\u001b[0m \u001b[0;34m\u001b[0m\u001b[0m\n\u001b[1;32m      9\u001b[0m print(f\"\"\"\n",
            "\u001b[0;31mTypeError\u001b[0m: unsupported operand type(s) for -: 'int' and 'str'"
          ]
        }
      ]
    },
    {
      "cell_type": "code",
      "source": [
        "# calcualte the age of the user\n",
        "\n",
        "name = input(\"Name: \") # always gives you string values\n",
        "place = input(\"place: \")\n",
        "year_of_birth = int(input(\"year_of_birth: \"))\n",
        "\n",
        "age = 2022 - year_of_birth\n",
        "\n",
        "print(f\"\"\"\n",
        "My name is: {name}\n",
        "I live at: {place}\n",
        "{name} is of age: {age}\n",
        "\"\"\")"
      ],
      "metadata": {
        "colab": {
          "base_uri": "https://localhost:8080/"
        },
        "id": "7ifCXhPDxmcS",
        "outputId": "8b1dc557-2a07-45da-b749-9e784d62e341"
      },
      "execution_count": 36,
      "outputs": [
        {
          "output_type": "stream",
          "name": "stdout",
          "text": [
            "Name: dhruv\n",
            "place: sant\n",
            "year_of_birth: 1996\n",
            "\n",
            "My name is: dhruv\n",
            "I live at: sant\n",
            "dhruv is of age: 26\n",
            "\n"
          ]
        }
      ]
    },
    {
      "cell_type": "markdown",
      "source": [
        "##Type conversion"
      ],
      "metadata": {
        "id": "9YOMlZfWyDmf"
      }
    },
    {
      "cell_type": "code",
      "source": [
        " A = int(input(\"The value of A:\"))\n",
        " B = int(input(\"The vaule of B\"))\n",
        "\n",
        " print(type(A), type (B) )\n",
        "\n",
        "print(f\"Sum of A and B : {A +B}\")\n",
        "\n"
      ],
      "metadata": {
        "colab": {
          "base_uri": "https://localhost:8080/"
        },
        "id": "yW5bKnzMxvN5",
        "outputId": "f4fcd577-dd9a-4251-9e0e-a61509212e8c"
      },
      "execution_count": 39,
      "outputs": [
        {
          "output_type": "stream",
          "name": "stdout",
          "text": [
            "The value of A:7\n",
            "The vaule of B8\n",
            "<class 'int'> <class 'int'>\n",
            "Sum of A and B : 15\n"
          ]
        }
      ]
    },
    {
      "cell_type": "code",
      "source": [
        "A = float(input(\"Enter value of A: \"))\n",
        "B = int(input(\"Enter value of B: \")) # 10.2 is float but converting to int\n",
        "\n",
        "print(f\"Sum of A and B is: {A+B}\")"
      ],
      "metadata": {
        "colab": {
          "base_uri": "https://localhost:8080/",
          "height": 253
        },
        "id": "UA5yKOi4ygkS",
        "outputId": "f5289051-5887-48d1-9e6d-a6ac33523919"
      },
      "execution_count": 41,
      "outputs": [
        {
          "name": "stdout",
          "output_type": "stream",
          "text": [
            "Enter value of A: 55.55\n",
            "Enter value of B: 55.55\n"
          ]
        },
        {
          "output_type": "error",
          "ename": "ValueError",
          "evalue": "ignored",
          "traceback": [
            "\u001b[0;31m---------------------------------------------------------------------------\u001b[0m",
            "\u001b[0;31mValueError\u001b[0m                                Traceback (most recent call last)",
            "\u001b[0;32m<ipython-input-41-476a8e264fdf>\u001b[0m in \u001b[0;36m<module>\u001b[0;34m\u001b[0m\n\u001b[1;32m      1\u001b[0m \u001b[0mA\u001b[0m \u001b[0;34m=\u001b[0m \u001b[0mfloat\u001b[0m\u001b[0;34m(\u001b[0m\u001b[0minput\u001b[0m\u001b[0;34m(\u001b[0m\u001b[0;34m\"Enter value of A: \"\u001b[0m\u001b[0;34m)\u001b[0m\u001b[0;34m)\u001b[0m\u001b[0;34m\u001b[0m\u001b[0;34m\u001b[0m\u001b[0m\n\u001b[0;32m----> 2\u001b[0;31m \u001b[0mB\u001b[0m \u001b[0;34m=\u001b[0m \u001b[0mint\u001b[0m\u001b[0;34m(\u001b[0m\u001b[0minput\u001b[0m\u001b[0;34m(\u001b[0m\u001b[0;34m\"Enter value of B: \"\u001b[0m\u001b[0;34m)\u001b[0m\u001b[0;34m)\u001b[0m \u001b[0;31m# 10.2 is float but converting to int\u001b[0m\u001b[0;34m\u001b[0m\u001b[0;34m\u001b[0m\u001b[0m\n\u001b[0m\u001b[1;32m      3\u001b[0m \u001b[0;34m\u001b[0m\u001b[0m\n\u001b[1;32m      4\u001b[0m \u001b[0mprint\u001b[0m\u001b[0;34m(\u001b[0m\u001b[0;34mf\"Sum of A and B is: {A+B}\"\u001b[0m\u001b[0;34m)\u001b[0m\u001b[0;34m\u001b[0m\u001b[0;34m\u001b[0m\u001b[0m\n",
            "\u001b[0;31mValueError\u001b[0m: invalid literal for int() with base 10: '55.55'"
          ]
        }
      ]
    },
    {
      "cell_type": "code",
      "source": [
        "# String to integer\n",
        "A = \"50\"\n",
        "print(f\"data type before: {type (A)}, value of A: {A}\")\n",
        "A= int(A)\n",
        "print(f\"data type after: {type(A)}, value of A: {A}\")"
      ],
      "metadata": {
        "colab": {
          "base_uri": "https://localhost:8080/"
        },
        "id": "4bKfTXMOzp-S",
        "outputId": "77bc6e75-c832-40f9-ea41-5d56c58f1d9f"
      },
      "execution_count": 64,
      "outputs": [
        {
          "output_type": "stream",
          "name": "stdout",
          "text": [
            "data type before: <class 'str'>, value of A: 50\n",
            "data type after: <class 'int'>, value of A: 50\n"
          ]
        }
      ]
    },
    {
      "cell_type": "code",
      "source": [
        "A = \"50.22\" # entering float.  in float it is not possible\n",
        "print(f\"data type before: {type(A)}, value of A: {A}\")\n",
        "A = int(A) # trying to convert into integer\n",
        "print(f\"data type after: {type(A)}, value of A: {A}\")"
      ],
      "metadata": {
        "colab": {
          "base_uri": "https://localhost:8080/",
          "height": 235
        },
        "id": "9y85q91w2R4W",
        "outputId": "c18d0723-4cfe-42d9-ddcd-f24d3b682c99"
      },
      "execution_count": 65,
      "outputs": [
        {
          "output_type": "stream",
          "name": "stdout",
          "text": [
            "data type before: <class 'str'>, value of A: 50.22\n"
          ]
        },
        {
          "output_type": "error",
          "ename": "ValueError",
          "evalue": "ignored",
          "traceback": [
            "\u001b[0;31m---------------------------------------------------------------------------\u001b[0m",
            "\u001b[0;31mValueError\u001b[0m                                Traceback (most recent call last)",
            "\u001b[0;32m<ipython-input-65-f14c4adc3c69>\u001b[0m in \u001b[0;36m<module>\u001b[0;34m\u001b[0m\n\u001b[1;32m      1\u001b[0m \u001b[0mA\u001b[0m \u001b[0;34m=\u001b[0m \u001b[0;34m\"50.22\"\u001b[0m \u001b[0;31m# entering float\u001b[0m\u001b[0;34m\u001b[0m\u001b[0;34m\u001b[0m\u001b[0m\n\u001b[1;32m      2\u001b[0m \u001b[0mprint\u001b[0m\u001b[0;34m(\u001b[0m\u001b[0;34mf\"data type before: {type(A)}, value of A: {A}\"\u001b[0m\u001b[0;34m)\u001b[0m\u001b[0;34m\u001b[0m\u001b[0;34m\u001b[0m\u001b[0m\n\u001b[0;32m----> 3\u001b[0;31m \u001b[0mA\u001b[0m \u001b[0;34m=\u001b[0m \u001b[0mint\u001b[0m\u001b[0;34m(\u001b[0m\u001b[0mA\u001b[0m\u001b[0;34m)\u001b[0m \u001b[0;31m# trying to convert into integer\u001b[0m\u001b[0;34m\u001b[0m\u001b[0;34m\u001b[0m\u001b[0m\n\u001b[0m\u001b[1;32m      4\u001b[0m \u001b[0mprint\u001b[0m\u001b[0;34m(\u001b[0m\u001b[0;34mf\"data type after: {type(A)}, value of A: {A}\"\u001b[0m\u001b[0;34m)\u001b[0m\u001b[0;34m\u001b[0m\u001b[0;34m\u001b[0m\u001b[0m\n",
            "\u001b[0;31mValueError\u001b[0m: invalid literal for int() with base 10: '50.22'"
          ]
        }
      ]
    },
    {
      "cell_type": "code",
      "source": [
        "# empty string to int\n",
        "A = \"\"\n",
        "print(f\"data type before: {type(A)}, value of A: {A}\")\n",
        "A = int(A)\n",
        "print(f\"data type after: {type(A)}, value of A: {A}\")"
      ],
      "metadata": {
        "colab": {
          "base_uri": "https://localhost:8080/",
          "height": 235
        },
        "id": "gD49IIPA2huX",
        "outputId": "bf1cb759-e1d1-4a2a-e28f-9197b4b9b77d"
      },
      "execution_count": 66,
      "outputs": [
        {
          "output_type": "stream",
          "name": "stdout",
          "text": [
            "data type before: <class 'str'>, value of A: \n"
          ]
        },
        {
          "output_type": "error",
          "ename": "ValueError",
          "evalue": "ignored",
          "traceback": [
            "\u001b[0;31m---------------------------------------------------------------------------\u001b[0m",
            "\u001b[0;31mValueError\u001b[0m                                Traceback (most recent call last)",
            "\u001b[0;32m<ipython-input-66-a8248b2f88e9>\u001b[0m in \u001b[0;36m<module>\u001b[0;34m\u001b[0m\n\u001b[1;32m      2\u001b[0m \u001b[0mA\u001b[0m \u001b[0;34m=\u001b[0m \u001b[0;34m\"\"\u001b[0m\u001b[0;34m\u001b[0m\u001b[0;34m\u001b[0m\u001b[0m\n\u001b[1;32m      3\u001b[0m \u001b[0mprint\u001b[0m\u001b[0;34m(\u001b[0m\u001b[0;34mf\"data type before: {type(A)}, value of A: {A}\"\u001b[0m\u001b[0;34m)\u001b[0m\u001b[0;34m\u001b[0m\u001b[0;34m\u001b[0m\u001b[0m\n\u001b[0;32m----> 4\u001b[0;31m \u001b[0mA\u001b[0m \u001b[0;34m=\u001b[0m \u001b[0mint\u001b[0m\u001b[0;34m(\u001b[0m\u001b[0mA\u001b[0m\u001b[0;34m)\u001b[0m\u001b[0;34m\u001b[0m\u001b[0;34m\u001b[0m\u001b[0m\n\u001b[0m\u001b[1;32m      5\u001b[0m \u001b[0mprint\u001b[0m\u001b[0;34m(\u001b[0m\u001b[0;34mf\"data type after: {type(A)}, value of A: {A}\"\u001b[0m\u001b[0;34m)\u001b[0m\u001b[0;34m\u001b[0m\u001b[0;34m\u001b[0m\u001b[0m\n",
            "\u001b[0;31mValueError\u001b[0m: invalid literal for int() with base 10: ''"
          ]
        }
      ]
    },
    {
      "cell_type": "markdown",
      "source": [
        "#2 Take input A and B and print their sum, mul div, power squre of the nos."
      ],
      "metadata": {
        "id": "Is8UqY4T23Hv"
      }
    },
    {
      "cell_type": "code",
      "source": [
        "A = int(input(\"The value of A:\"))\n",
        "B = int (input(\"The valure of B:\"))\n",
        "\n",
        "print(f\"Sum of the number is: {A+B},sub of hte number is: {A-B} ,Multi of the number is : {A*B},Devision of the number is: {A/B}\")"
      ],
      "metadata": {
        "colab": {
          "base_uri": "https://localhost:8080/"
        },
        "id": "3dY2Cxfr2taC",
        "outputId": "bc4f9d03-8309-4094-dca9-de971c9da898"
      },
      "execution_count": 70,
      "outputs": [
        {
          "output_type": "stream",
          "name": "stdout",
          "text": [
            "The value of A:24\n",
            "The valure of B:4\n",
            "Sum of the number is: 28,sub of hte number is: 20 ,Multi of the number is : 96,Devision of the number is: 6.0\n"
          ]
        }
      ]
    },
    {
      "cell_type": "markdown",
      "source": [
        "#3 how many reserved keywords are there in python and why we should not use them as a veriable name .\n",
        "\n",
        "Keywords are the reserved words in Python.\n",
        "\n",
        "We cannot use a keyword as a variable name, function name or any other identifier. They are used to define the syntax and structure of the Python language.\n",
        "\n",
        "In Python, keywords are case sensitive.\n",
        "\n",
        "\n",
        "All the keywords except True, False and None are in lowercase and they must be written as they are. The list of all the keywords is given below.\n",
        "\n",
        "False\tawait\telse\timport\tpass\n",
        "None\tbreak\texcept\tin\traise\n",
        "True\tclass\tfinally\tis\treturn\n",
        "and\tcontinue\tfor\tlambda\ttry\n",
        "as\tdef\tfrom\tnonlocal\twhile\n",
        "assert\tdel\tglobal\tnot\twith\n",
        "async\telif\tif\tor\tyield\n",
        "\n",
        "https://www.programiz.com/python-programming/keywords-identifier#:~:text=Keywords%20are%20the%20reserved%20words,Python%2C%20keywords%20are%20case%20sensitive."
      ],
      "metadata": {
        "id": "eRH0rKVV4Fdu"
      }
    },
    {
      "cell_type": "code",
      "source": [
        "print(\"Create email ids with the inputs. in the following format - lastname. firstname@gmail.com\")"
      ],
      "metadata": {
        "colab": {
          "base_uri": "https://localhost:8080/"
        },
        "id": "hD8UbCYW4CNb",
        "outputId": "0581df61-f823-46de-def8-1ee4dbb10dcb"
      },
      "execution_count": 71,
      "outputs": [
        {
          "output_type": "stream",
          "name": "stdout",
          "text": [
            "Create email ids with the inputs. in the following format - lastname. firstname@gmail.com\n"
          ]
        }
      ]
    },
    {
      "cell_type": "markdown",
      "source": [
        "#4 Create email ids with the inputs. in the following format - lastname. firstname@gmail.com"
      ],
      "metadata": {
        "id": "_Lj2Fj_u5T7J"
      }
    },
    {
      "cell_type": "code",
      "source": [
        "first_name = \"dhruv\"\n",
        "last_name = \"tomar\"\n",
        "\n",
        "print(f\"Gmail id is: {first_name}.{last_name}@gmail.com\")"
      ],
      "metadata": {
        "colab": {
          "base_uri": "https://localhost:8080/"
        },
        "id": "gr0rslET5VkZ",
        "outputId": "6f701f22-6544-4702-b59b-9f838adb08c9"
      },
      "execution_count": 75,
      "outputs": [
        {
          "output_type": "stream",
          "name": "stdout",
          "text": [
            "Gmail id is: dhruv.tomar@gmail.com\n"
          ]
        }
      ]
    },
    {
      "cell_type": "markdown",
      "source": [
        "#5 try to print the following lines -\n",
        "Hi I'm Sunny\n",
        "My adress is 22\\3\n",
        "I earn 20$ daily."
      ],
      "metadata": {
        "id": "DN7yMIGe6Fea"
      }
    },
    {
      "cell_type": "code",
      "source": [
        "print(\" Hi I'm Sunny MY adress is 22\\3 I earn 20$ daily \") #doubt in 22\\3"
      ],
      "metadata": {
        "colab": {
          "base_uri": "https://localhost:8080/"
        },
        "id": "K_TKnQOT59Io",
        "outputId": "bf58e89e-bc3d-42a7-c534-07fd117a55e0"
      },
      "execution_count": 89,
      "outputs": [
        {
          "output_type": "stream",
          "name": "stdout",
          "text": [
            " Hi I'm Sunny MY adress is 22\\ 3 I earn 20$ daily \n"
          ]
        }
      ]
    },
    {
      "cell_type": "markdown",
      "source": [
        "#Take user input(name, adress,date of birth etc.) to fill a form for your college and create their email IDs"
      ],
      "metadata": {
        "id": "lPBC18TW8YrB"
      }
    },
    {
      "cell_type": "code",
      "source": [
        "name = input(\"Name: \")\n",
        "adress = input(\"ADress\")\n",
        "dob = int(input(\"Date of birth is:\"))\n",
        "\n",
        "print(f\"Your Email id is: {name}.{adress}{dob}@rgpv.com\")"
      ],
      "metadata": {
        "colab": {
          "base_uri": "https://localhost:8080/"
        },
        "id": "1v6cUesz8Vel",
        "outputId": "b2a6304b-d07a-4b88-d885-689f89ec5d87"
      },
      "execution_count": 90,
      "outputs": [
        {
          "output_type": "stream",
          "name": "stdout",
          "text": [
            "Name: dhruv\n",
            "ADresssatna\n",
            "Date of birth is:12071996\n",
            "Your Email id is: dhruv.satna12071996@rgpv.com\n"
          ]
        }
      ]
    },
    {
      "cell_type": "markdown",
      "source": [
        "#7 onvert the folllowing\n",
        "\n",
        "\"22.4\" into 22 integer\n",
        "\n",
        "\"22\" into complex no ."
      ],
      "metadata": {
        "id": "hdQSLjix9LEA"
      }
    },
    {
      "cell_type": "code",
      "source": [
        "A = 22.4\n",
        "print(f\"Data type before:{type(A)}, value of A:{A}\")\n",
        "A = int(A)\n",
        "print(f\"Data type after: {type(A)}, value of A: {A}\")"
      ],
      "metadata": {
        "colab": {
          "base_uri": "https://localhost:8080/"
        },
        "id": "URKwaIz99Gh7",
        "outputId": "7c61aa95-aac3-4852-b4ab-242e82ad54f3"
      },
      "execution_count": 94,
      "outputs": [
        {
          "output_type": "stream",
          "name": "stdout",
          "text": [
            "Data type before:<class 'float'>, value of A:22.4\n",
            "Data type after: <class 'int'>, value of A: 22\n"
          ]
        }
      ]
    }
  ]
}